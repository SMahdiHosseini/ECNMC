{
 "cells": [
  {
   "cell_type": "code",
   "execution_count": 1,
   "metadata": {},
   "outputs": [
    {
     "name": "stderr",
     "output_type": "stream",
     "text": [
      "/usr/lib/python3/dist-packages/scipy/__init__.py:146: UserWarning: A NumPy version >=1.17.3 and <1.25.0 is required for this version of SciPy (detected version 1.26.4\n",
      "  warnings.warn(f\"A NumPy version >={np_minversion} and <{np_maxversion}\"\n"
     ]
    }
   ],
   "source": [
    "import pandas as pd\n",
    "import glob\n",
    "import configparser\n",
    "import os\n",
    "import matplotlib.pyplot as plt\n",
    "import seaborn as sns\n",
    "import numpy as np\n",
    "from scipy.stats import anderson\n",
    "\n",
    "plt.style.use('ggplot')\n",
    "plt.rcParams['figure.figsize'] = (40, 20)\n",
    "plt.rcParams.update({\n",
    "    \"lines.color\": \"black\",\n",
    "    \"patch.edgecolor\": \"black\",\n",
    "    \"text.color\": \"black\",\n",
    "    \"axes.facecolor\": \"white\",\n",
    "    \"axes.edgecolor\": \"black\",\n",
    "    \"axes.labelcolor\": \"black\",\n",
    "    \"xtick.color\": \"black\",\n",
    "    \"ytick.color\": \"black\",\n",
    "    \"grid.color\": \"gray\",\n",
    "    \"figure.facecolor\": \"white\",\n",
    "    \"figure.edgecolor\": \"white\",\n",
    "    \"savefig.facecolor\": \"white\",\n",
    "    \"savefig.edgecolor\": \"white\",\n",
    "    \"font.size\": 30,\n",
    "    \"xtick.labelsize\":30,\n",
    "    \"ytick.labelsize\":30,\n",
    "    \"lines.linewidth\":1.,\n",
    "    \"legend.fontsize\": 10,\n",
    "    })\n",
    "\n",
    "__ns3_path = os.popen('locate \"ns-3-dev\" | grep /ns-3-dev$').read().splitlines()[0]\n",
    "sample_rate = 0.05\n",
    "confidenceValue = 1.96 # 95% confidence interval"
   ]
  },
  {
   "cell_type": "code",
   "execution_count": 2,
   "metadata": {},
   "outputs": [],
   "source": [
    "# convert strings like \"2Mbps\" to float\n",
    "def convert_to_float(x):\n",
    "    if 'Mbps' in x:\n",
    "        return float(x[:-4])\n",
    "    elif 'Kbps' in x:\n",
    "        return float(x[:-4]) / 1000\n",
    "    elif 'Gbps' in x:\n",
    "        return float(x[:-4]) * 1000\n",
    "    elif 'ms' in x:\n",
    "        return float(x[:-2])\n",
    "    elif 'us' in x:\n",
    "        return float(x[:-2]) / 1000\n",
    "    else:\n",
    "        return float(x)\n",
    "    \n",
    "def sample_data(data, sample_rate, sample_column):\n",
    "    exit = False\n",
    "    while not exit:\n",
    "        data_copy = data.sample(frac=sample_rate).sort_values(by=[sample_column])\n",
    "        data_copy['InterArrivalTime'] = data_copy[sample_column].diff()\n",
    "        data_copy = data_copy.dropna().reset_index(drop=True)\n",
    "        anderson_statistic, anderson_critical_values, _ = anderson(data_copy['InterArrivalTime'], 'expon')\n",
    "        if anderson_statistic < anderson_critical_values[2]:\n",
    "            exit = True\n",
    "    return data_copy.drop(columns=['InterArrivalTime'])\n",
    "\n",
    "def switch_data(flowIndicatorDf, switchDf):\n",
    "    l_df = flowIndicatorDf.copy()\n",
    "    l_df = pd.merge(l_df, switchDf, on=['SourceIp', 'SourcePort', 'DestinationIp', 'DestinationPort', 'PayloadSize', 'SequenceNb'], how='inner')\n",
    "    l_df = sample_data(l_df, sample_rate, 'SentTime')\n",
    "    return l_df\n",
    "\n",
    "def intermediateLink_data(flowIndicatorDf, source, dest):\n",
    "    l_df = flowIndicatorDf.copy()\n",
    "    l_df = pd.merge(l_df, source.drop(columns=['ReceiveTime']), on=['SourceIp', 'SourcePort', 'DestinationIp', 'DestinationPort', 'PayloadSize', 'SequenceNb'], how='inner')\n",
    "    l_df = pd.merge(l_df, dest.drop(columns=['SentTime']), on=['SourceIp', 'SourcePort', 'DestinationIp', 'DestinationPort', 'PayloadSize', 'SequenceNb'], how='inner')\n",
    "    l_df = sample_data(l_df, sample_rate, 'SentTime')\n",
    "    return l_df\n",
    "\n",
    "def get_delayMean(data):\n",
    "    data['Delay'] = abs(data['ReceiveTime'] - data['SentTime'])\n",
    "    return data['Delay'].mean()\n",
    "\n",
    "def get_delayStd(data):\n",
    "    data['Delay'] = abs(data['ReceiveTime'] - data['SentTime'])\n",
    "    return data['Delay'].std()\n",
    "\n",
    "def get_statistics(data):\n",
    "    statistics = {}\n",
    "    statistics['DelayMean'] = get_delayMean(data)\n",
    "    statistics['DelayStd'] = get_delayStd(data)\n",
    "    statistics['sampleSize'] = len(data)\n",
    "    return statistics"
   ]
  },
  {
   "cell_type": "code",
   "execution_count": 3,
   "metadata": {},
   "outputs": [],
   "source": [
    "def ECNMC(endToEnd_delayMean, sumOfSegments_DelayMeans, endToEnd_delayStd, MinSampleSize, confidenceValue):\n",
    "    if abs(endToEnd_delayMean - sumOfSegments_DelayMeans) <= confidenceValue * (endToEnd_delayStd / np.sqrt(MinSampleSize)):\n",
    "        return True\n",
    "    else:  \n",
    "        return False\n",
    "\n",
    "\n",
    "def check_single_delayConsistency(endToEnd_statistics, switches_statistics, interLinks_statistics, confidenceValue):\n",
    "    switches_delayMeans = [value['DelayMean'] for value in switches_statistics.values()]\n",
    "    interLinks_delaymeans = [value['DelayMean'] for value in interLinks_statistics.values()]\n",
    "    switches_sampleSizes = [value['sampleSize'] for value in switches_statistics.values()]\n",
    "    interLinks_sampleSizes = [value['sampleSize'] for value in interLinks_statistics.values()]\n",
    "    MinSampleSize = min(switches_sampleSizes + interLinks_sampleSizes)\n",
    "    sumOfSegmentsDelayMeans = sum(switches_delayMeans) + sum(interLinks_delaymeans)\n",
    "\n",
    "    return ECNMC(endToEnd_statistics['DelayMean'], sumOfSegmentsDelayMeans, endToEnd_statistics['DelayStd'], MinSampleSize, confidenceValue)\n",
    "        \n",
    "\n",
    "\n",
    "\n",
    "def check_all_delayConsistency(endToEnd_statistics, switches_statistics, interLinks_statistics, confidenceValue):\n",
    "    for flow in endToEnd_statistics.keys():\n",
    "        print(\"Flow: {}\\n Result: {}\".format(flow, \n",
    "                                                      check_single_delayConsistency(endToEnd_statistics[flow], switches_statistics[flow], interLinks_statistics[flow], confidenceValue)))"
   ]
  },
  {
   "cell_type": "code",
   "execution_count": 4,
   "metadata": {},
   "outputs": [],
   "source": [
    "class AppKey:\n",
    "    def __init__(self, sourceIp, sourcePort, destIp, destPort):\n",
    "        self.sourceIp = sourceIp\n",
    "        self.sourcePort = sourcePort\n",
    "        self.destIp = destIp\n",
    "        self.destPort = destPort"
   ]
  },
  {
   "cell_type": "code",
   "execution_count": 5,
   "metadata": {},
   "outputs": [
    {
     "name": "stdout",
     "output_type": "stream",
     "text": [
      "hostToTorLinkRate:  50.0  Mbps\n",
      "torToAggLinkRate:  50.0  Mbps\n",
      "aggToCoreLinkRate:  50.0  Mbps\n",
      "hostToTorLinkDelay:  3.0  ms\n",
      "torToAggLinkDelay:  3.0  ms\n",
      "aggToCoreLinkDelay:  3.0  ms\n",
      "pctPacedBack:  0.8  %\n",
      "appDataRate:  50.0  Mbps\n",
      "duration:  10.0  s\n"
     ]
    }
   ],
   "source": [
    "config = configparser.ConfigParser()\n",
    "config.read('Parameters.config')\n",
    "hostToTorLinkRate = convert_to_float(config.get('Settings', 'hostToTorLinkRate'))\n",
    "torToAggLinkRate = convert_to_float(config.get('Settings', 'torToAggLinkRate'))\n",
    "aggToCoreLinkRate = convert_to_float(config.get('Settings', 'aggToCoreLinkRate'))\n",
    "hostToTorLinkDelay = convert_to_float(config.get('Settings', 'hostToTorLinkDelay'))\n",
    "torToAggLinkDelay = convert_to_float(config.get('Settings', 'torToAggLinkDelay'))\n",
    "aggToCoreLinkDelay = convert_to_float(config.get('Settings', 'aggToCoreLinkDelay'))\n",
    "pctPacedBack = convert_to_float(config.get('Settings', 'pctPacedBack'))\n",
    "appDataRate = convert_to_float(config.get('Settings', 'appDataRate'))\n",
    "duration = convert_to_float(config.get('Settings', 'duration'))\n",
    "\n",
    "print(\"hostToTorLinkRate: \", hostToTorLinkRate, \" Mbps\")\n",
    "print(\"torToAggLinkRate: \", torToAggLinkRate, \" Mbps\")\n",
    "print(\"aggToCoreLinkRate: \", aggToCoreLinkRate, \" Mbps\")\n",
    "print(\"hostToTorLinkDelay: \", hostToTorLinkDelay, \" ms\")\n",
    "print(\"torToAggLinkDelay: \", torToAggLinkDelay, \" ms\")\n",
    "print(\"aggToCoreLinkDelay: \", aggToCoreLinkDelay, \" ms\")\n",
    "print(\"pctPacedBack: \", pctPacedBack, \" %\")\n",
    "print(\"appDataRate: \", appDataRate, \" Mbps\")\n",
    "print(\"duration: \", duration, \" s\")"
   ]
  },
  {
   "cell_type": "markdown",
   "metadata": {},
   "source": [
    "# Reading the Groundtruth"
   ]
  },
  {
   "cell_type": "code",
   "execution_count": 6,
   "metadata": {},
   "outputs": [
    {
     "name": "stdout",
     "output_type": "stream",
     "text": [
      "['/home/mahdi/Documents/NAL/ns-3-dev/scratch/Results/R0h1R1h1_EndToEnd.csv', '/home/mahdi/Documents/NAL/ns-3-dev/scratch/Results/R0h0R1h0_EndToEnd.csv']\n",
      "20755\n",
      "20754\n"
     ]
    }
   ],
   "source": [
    "file_paths = glob.glob('{}/scratch/Results/*_EndToEnd.csv'.format(__ns3_path))\n",
    "endToEnd_dfs = {}\n",
    "apps = []\n",
    "print(file_paths)\n",
    "for file_path in file_paths:\n",
    "    df_name = file_path.split('/')[-1].split('_')[0]\n",
    "    df = pd.read_csv(file_path)\n",
    "    df = df[df['IsReceived'] == 1]\n",
    "    df = df.reset_index(drop=True)\n",
    "    # df['EndToEndDelay'] = (df['ReceiveTime'] - df['SentTime'])\n",
    "    # keep the packets their sent time is after 1s\n",
    "    df = df[df['SentTime'] > 2000000000]\n",
    "    df = df[df['SentTime'] < 9000000000]\n",
    "    # df = df.drop(columns=['IsReceived', 'ReceiveTime', 'SentTime'])\n",
    "    df = df.drop(columns=['IsReceived'])\n",
    "    print(len(df))\n",
    "    endToEnd_dfs[df_name] = df"
   ]
  },
  {
   "cell_type": "code",
   "execution_count": 7,
   "metadata": {},
   "outputs": [
    {
     "name": "stdout",
     "output_type": "stream",
     "text": [
      "41509\n",
      "41508\n"
     ]
    },
    {
     "data": {
      "text/html": [
       "<div>\n",
       "<style scoped>\n",
       "    .dataframe tbody tr th:only-of-type {\n",
       "        vertical-align: middle;\n",
       "    }\n",
       "\n",
       "    .dataframe tbody tr th {\n",
       "        vertical-align: top;\n",
       "    }\n",
       "\n",
       "    .dataframe thead th {\n",
       "        text-align: right;\n",
       "    }\n",
       "</style>\n",
       "<table border=\"1\" class=\"dataframe\">\n",
       "  <thead>\n",
       "    <tr style=\"text-align: right;\">\n",
       "      <th></th>\n",
       "      <th>SourceIp</th>\n",
       "      <th>SourcePort</th>\n",
       "      <th>DestinationIp</th>\n",
       "      <th>DestinationPort</th>\n",
       "      <th>SequenceNb</th>\n",
       "      <th>PayloadSize</th>\n",
       "      <th>ReceiveTime</th>\n",
       "      <th>SentTime</th>\n",
       "    </tr>\n",
       "  </thead>\n",
       "  <tbody>\n",
       "    <tr>\n",
       "      <th>3301</th>\n",
       "      <td>10.1.2.1</td>\n",
       "      <td>49153</td>\n",
       "      <td>10.2.2.1</td>\n",
       "      <td>50000</td>\n",
       "      <td>26536001</td>\n",
       "      <td>1000</td>\n",
       "      <td>8999938881</td>\n",
       "      <td>8999938881</td>\n",
       "    </tr>\n",
       "    <tr>\n",
       "      <th>3302</th>\n",
       "      <td>10.1.2.1</td>\n",
       "      <td>49153</td>\n",
       "      <td>10.2.2.1</td>\n",
       "      <td>50000</td>\n",
       "      <td>26535001</td>\n",
       "      <td>1000</td>\n",
       "      <td>8999770241</td>\n",
       "      <td>8999770241</td>\n",
       "    </tr>\n",
       "    <tr>\n",
       "      <th>3303</th>\n",
       "      <td>10.1.1.1</td>\n",
       "      <td>49153</td>\n",
       "      <td>10.2.1.1</td>\n",
       "      <td>50001</td>\n",
       "      <td>26536001</td>\n",
       "      <td>1000</td>\n",
       "      <td>8999601601</td>\n",
       "      <td>8999601601</td>\n",
       "    </tr>\n",
       "    <tr>\n",
       "      <th>3304</th>\n",
       "      <td>10.1.1.1</td>\n",
       "      <td>49153</td>\n",
       "      <td>10.2.1.1</td>\n",
       "      <td>50001</td>\n",
       "      <td>26535001</td>\n",
       "      <td>1000</td>\n",
       "      <td>8999432961</td>\n",
       "      <td>8999432961</td>\n",
       "    </tr>\n",
       "    <tr>\n",
       "      <th>3305</th>\n",
       "      <td>10.1.1.1</td>\n",
       "      <td>49153</td>\n",
       "      <td>10.2.1.1</td>\n",
       "      <td>50001</td>\n",
       "      <td>26534001</td>\n",
       "      <td>1000</td>\n",
       "      <td>8998927041</td>\n",
       "      <td>8998927041</td>\n",
       "    </tr>\n",
       "  </tbody>\n",
       "</table>\n",
       "</div>"
      ],
      "text/plain": [
       "      SourceIp  SourcePort DestinationIp  DestinationPort  SequenceNb  \\\n",
       "3301  10.1.2.1       49153      10.2.2.1            50000    26536001   \n",
       "3302  10.1.2.1       49153      10.2.2.1            50000    26535001   \n",
       "3303  10.1.1.1       49153      10.2.1.1            50001    26536001   \n",
       "3304  10.1.1.1       49153      10.2.1.1            50001    26535001   \n",
       "3305  10.1.1.1       49153      10.2.1.1            50001    26534001   \n",
       "\n",
       "      PayloadSize  ReceiveTime    SentTime  \n",
       "3301         1000   8999938881  8999938881  \n",
       "3302         1000   8999770241  8999770241  \n",
       "3303         1000   8999601601  8999601601  \n",
       "3304         1000   8999432961  8999432961  \n",
       "3305         1000   8998927041  8998927041  "
      ]
     },
     "execution_count": 7,
     "metadata": {},
     "output_type": "execute_result"
    }
   ],
   "source": [
    "file_paths = glob.glob('{}/scratch/Results/*_Switch.csv'.format(__ns3_path))\n",
    "switch_dfs = {}\n",
    "\n",
    "for file_path in file_paths:\n",
    "    df_name = file_path.split('/')[-1].split('_')[0]\n",
    "    df = pd.read_csv(file_path)\n",
    "    df = df[df['IsSent'] == 1]\n",
    "    df = df.reset_index(drop=True)\n",
    "    # df['SegmentDelay'] = (df['SentTime'] - df['ReceiveTime'])\n",
    "    # keep the packets their sent time is after 1s\n",
    "    df = df[df['ReceiveTime'] > 2000000000]\n",
    "    df = df[df['ReceiveTime'] < 9000000000]\n",
    "    # drop IsReceived, SourcePort, DestinationPort, SequenceNb, ReceiveTime, SentTime\n",
    "    df = df.drop(columns=['IsSent'])\n",
    "    print(len(df))\n",
    "    switch_dfs[df_name] = df\n",
    "\n",
    "switch_dfs[list(switch_dfs.keys())[0]].head()"
   ]
  },
  {
   "cell_type": "markdown",
   "metadata": {},
   "source": [
    "# Intermediate links statistics"
   ]
  },
  {
   "cell_type": "code",
   "execution_count": 8,
   "metadata": {},
   "outputs": [
    {
     "data": {
      "text/plain": [
       "{'R0h1R1h1': {('source', 'T0'): {'DelayMean': 3173251.891891892,\n",
       "   'DelayStd': 4665.689410293564,\n",
       "   'sampleSize': 1036},\n",
       "  ('T0', 'T1'): {'DelayMean': 3168640.0, 'DelayStd': 0.0, 'sampleSize': 1032},\n",
       "  ('T1', 'dest'): {'DelayMean': 3168640.0,\n",
       "   'DelayStd': 0.0,\n",
       "   'sampleSize': 1032}},\n",
       " 'R0h0R1h0': {('source', 'T0'): {'DelayMean': 3173018.378378378,\n",
       "   'DelayStd': 4580.941708101073,\n",
       "   'sampleSize': 1036},\n",
       "  ('T0', 'T1'): {'DelayMean': 3168640.0, 'DelayStd': 0.0, 'sampleSize': 1032},\n",
       "  ('T1', 'dest'): {'DelayMean': 3168640.0,\n",
       "   'DelayStd': 0.0,\n",
       "   'sampleSize': 1032}}}"
      ]
     },
     "execution_count": 8,
     "metadata": {},
     "output_type": "execute_result"
    }
   ],
   "source": [
    "interLinks_statistics = {}\n",
    "for flow in endToEnd_dfs.keys():\n",
    "    interLinks_statistics[flow] = {}\n",
    "    interLinks_statistics[flow][('source', 'T0')] = get_statistics(intermediateLink_data(endToEnd_dfs[flow].drop(columns=['SentTime', 'ReceiveTime']), endToEnd_dfs[flow], switch_dfs['T0']))\n",
    "    interLinks_statistics[flow][('T0', 'T1')] = get_statistics(intermediateLink_data(endToEnd_dfs[flow].drop(columns=['SentTime', 'ReceiveTime']), switch_dfs['T0'], switch_dfs['T1']))\n",
    "    interLinks_statistics[flow][('T1', 'dest')] = get_statistics(intermediateLink_data(endToEnd_dfs[flow].drop(columns=['SentTime', 'ReceiveTime']), switch_dfs['T1'], endToEnd_dfs[flow]))\n",
    "\n",
    "interLinks_statistics"
   ]
  },
  {
   "cell_type": "markdown",
   "metadata": {},
   "source": [
    "# Switches statistics"
   ]
  },
  {
   "cell_type": "code",
   "execution_count": 9,
   "metadata": {},
   "outputs": [
    {
     "data": {
      "text/plain": [
       "{'R0h1R1h1': {'T0': {'DelayMean': 25232388.687258687,\n",
       "   'DelayStd': 46791.722743545804,\n",
       "   'sampleSize': 1036},\n",
       "  'T1': {'DelayMean': 0.0, 'DelayStd': 0.0, 'sampleSize': 1032}},\n",
       " 'R0h0R1h0': {'T0': {'DelayMean': 25235552.644787643,\n",
       "   'DelayStd': 46265.73632645717,\n",
       "   'sampleSize': 1036},\n",
       "  'T1': {'DelayMean': 0.0, 'DelayStd': 0.0, 'sampleSize': 1032}}}"
      ]
     },
     "execution_count": 9,
     "metadata": {},
     "output_type": "execute_result"
    }
   ],
   "source": [
    "switches_statistics = {}\n",
    "for flow in endToEnd_dfs.keys():\n",
    "    switches_statistics[flow] = {}\n",
    "    switches_statistics[flow]['T0'] = get_statistics(switch_data(endToEnd_dfs[flow].drop(columns=['SentTime', 'ReceiveTime']), switch_dfs['T0']))\n",
    "    switches_statistics[flow]['T1'] = get_statistics(switch_data(endToEnd_dfs[flow].drop(columns=['SentTime', 'ReceiveTime']), switch_dfs['T1']))\n",
    "\n",
    "switches_statistics"
   ]
  },
  {
   "cell_type": "code",
   "execution_count": 10,
   "metadata": {},
   "outputs": [],
   "source": [
    "# free the switch_dfs\n",
    "switch_dfs = None"
   ]
  },
  {
   "cell_type": "markdown",
   "metadata": {},
   "source": [
    "# Groundtruth delay mean and std"
   ]
  },
  {
   "cell_type": "code",
   "execution_count": 11,
   "metadata": {},
   "outputs": [
    {
     "name": "stdout",
     "output_type": "stream",
     "text": [
      "{'R0h1R1h1': {'DelayMean': 34744379.94796435, 'DelayStd': 46381.0474268288, 'sampleSize': 20755}, 'R0h0R1h0': {'DelayMean': 34745363.116507664, 'DelayStd': 46400.54762969484, 'sampleSize': 20754}}\n"
     ]
    }
   ],
   "source": [
    "# calculate the mean and std of thet delay of each flow\n",
    "endToEnd_statistics = {}\n",
    "for flow in endToEnd_dfs.keys():\n",
    "    endToEnd_statistics[flow] = get_statistics(endToEnd_dfs[flow])\n",
    "\n",
    "print(endToEnd_statistics)"
   ]
  },
  {
   "cell_type": "markdown",
   "metadata": {},
   "source": [
    "# End to End and Persegment Compatibility Check"
   ]
  },
  {
   "cell_type": "code",
   "execution_count": 12,
   "metadata": {},
   "outputs": [
    {
     "name": "stdout",
     "output_type": "stream",
     "text": [
      "Flow: R0h1R1h1\n",
      " Result: True\n",
      "Flow: R0h0R1h0\n",
      " Result: True\n"
     ]
    }
   ],
   "source": [
    "\n",
    "check_all_delayConsistency(endToEnd_statistics, switches_statistics, interLinks_statistics, confidenceValue)"
   ]
  }
 ],
 "metadata": {
  "kernelspec": {
   "display_name": "Python 3",
   "language": "python",
   "name": "python3"
  },
  "language_info": {
   "codemirror_mode": {
    "name": "ipython",
    "version": 3
   },
   "file_extension": ".py",
   "mimetype": "text/x-python",
   "name": "python",
   "nbconvert_exporter": "python",
   "pygments_lexer": "ipython3",
   "version": "3.10.12"
  }
 },
 "nbformat": 4,
 "nbformat_minor": 2
}
