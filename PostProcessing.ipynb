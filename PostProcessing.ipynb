{
 "cells": [
  {
   "cell_type": "code",
   "execution_count": 208,
   "metadata": {},
   "outputs": [],
   "source": [
    "import pandas as pd\n",
    "import glob\n",
    "import configparser\n",
    "import os\n",
    "import matplotlib.pyplot as plt\n",
    "import seaborn as sns\n",
    "import numpy as np\n",
    "from scipy.stats import anderson\n",
    "from scipy.stats import f_oneway, kruskal\n",
    "import json as js\n",
    "\n",
    "plt.style.use('ggplot')\n",
    "plt.rcParams['figure.figsize'] = (40, 20)\n",
    "plt.rcParams.update({\n",
    "    \"lines.color\": \"black\",\n",
    "    \"patch.edgecolor\": \"black\",\n",
    "    \"text.color\": \"black\",\n",
    "    \"axes.facecolor\": \"white\",\n",
    "    \"axes.edgecolor\": \"black\",\n",
    "    \"axes.labelcolor\": \"black\",\n",
    "    \"xtick.color\": \"black\",\n",
    "    \"ytick.color\": \"black\",\n",
    "    \"grid.color\": \"gray\",\n",
    "    \"figure.facecolor\": \"white\",\n",
    "    \"figure.edgecolor\": \"white\",\n",
    "    \"savefig.facecolor\": \"white\",\n",
    "    \"savefig.edgecolor\": \"white\",\n",
    "    \"font.size\": 30,\n",
    "    \"xtick.labelsize\":30,\n",
    "    \"ytick.labelsize\":30,\n",
    "    \"lines.linewidth\":1.,\n",
    "    \"legend.fontsize\": 10,\n",
    "    })\n",
    "\n",
    "__ns3_path = os.popen('locate \"ns-3.41\" | grep /ns-3.41$').read().splitlines()[0]\n",
    "sample_rate = 0.01\n",
    "confidenceValue = 1.96 # 95% confidence interval"
   ]
  },
  {
   "cell_type": "code",
   "execution_count": 209,
   "metadata": {},
   "outputs": [],
   "source": [
    "# convert strings like \"2Mbps\" to float\n",
    "def read_data(__ns3_path, steadyStart, steadyEnd, rate, segment, checkColumn, projectColumn, experiment):\n",
    "    file_paths = glob.glob('{}/scratch/Results/{}/{}/*_{}.csv'.format(__ns3_path, rate, experiment, segment))\n",
    "    dfs = {}\n",
    "    for file_path in file_paths:\n",
    "        df_name = file_path.split('/')[-1].split('_')[0]\n",
    "        df = pd.read_csv(file_path)\n",
    "        df = df[df[checkColumn] == 1]\n",
    "        df = df.reset_index(drop=True)\n",
    "        df = df[df[projectColumn] > steadyStart * 1000000000]\n",
    "        df = df[df[projectColumn] < steadyEnd * 1000000000]\n",
    "        df = df.drop(columns=[checkColumn])\n",
    "        dfs[df_name] = df\n",
    "    return dfs\n",
    "\n",
    "def read_data_flowIndicator(__ns3_path, rate):\n",
    "    flows_name = []\n",
    "    file_paths = glob.glob('{}/scratch/Results/{}/0/*_EndToEnd.csv'.format(__ns3_path, rate))\n",
    "    for file_path in file_paths:\n",
    "        flows_name.append(file_path.split('/')[-1].split('_')[0])\n",
    "    return flows_name\n",
    "\n",
    "def convert_to_float(x):\n",
    "    if 'Mbps' in x:\n",
    "        return float(x[:-4])\n",
    "    elif 'Kbps' in x:\n",
    "        return float(x[:-4]) / 1000\n",
    "    elif 'Gbps' in x:\n",
    "        return float(x[:-4]) * 1000\n",
    "    elif 'ms' in x:\n",
    "        return float(x[:-2])\n",
    "    elif 'us' in x:\n",
    "        return float(x[:-2]) / 1000\n",
    "    else:\n",
    "        return float(x)\n",
    "    \n",
    "def sample_data(data, sample_column):\n",
    "    exit = False\n",
    "    while not exit:\n",
    "        # option 1: sample data with a fixed rate\n",
    "        data_copy = data.sample(frac=sample_rate).sort_values(by=[sample_column])\n",
    "        \n",
    "        # option 2: sample data with a poisson process. Pick the closest packet to the arrival time\n",
    "        # interArrivals = np.random.exponential(1/poisson_sample_rate, int(duration * poisson_sample_rate)) * 1000000000\n",
    "        # interArrivals = np.cumsum(interArrivals)\n",
    "        # interArrivals  = interArrivals + steadyStart * 1000000000\n",
    "        # interArrivals = interArrivals[interArrivals > steadyStart * 1000000000]\n",
    "        # interArrivals = interArrivals[interArrivals < steadyEnd * 1000000000]\n",
    "        # data_copy = pd.DataFrame()\n",
    "        # for i in range(len(interArrivals)):\n",
    "        #     data_copy = pd.concat([data_copy, data.iloc[(data[sample_column] - interArrivals[i]).abs().argsort()[:1]]])\n",
    "\n",
    "        # option 3: sample data with a poisson process. Pick the packets based on the exp distribution not the arrival time\n",
    "        # exps = np.random.exponential(1/poisson_sample_rate, len(data))\n",
    "        # c = np.abs(exps - 1/poisson_sample_rate) / (1/poisson_sample_rate) < 0.01\n",
    "        # data_copy = data.copy()\n",
    "        # data_copy['IsSample'] = c\n",
    "        # data_copy = data_copy[data_copy['IsSample'] == True]\n",
    "        # data_copy = data_copy.sort_values(by=[sample_column])\n",
    "\n",
    "\n",
    "        data_copy['InterArrivalTime'] = data_copy[sample_column].diff()\n",
    "        data_copy = data_copy.dropna().reset_index(drop=True)\n",
    "        anderson_statistic, anderson_critical_values, _ = anderson(data_copy['InterArrivalTime'], 'expon')\n",
    "        if anderson_statistic < anderson_critical_values[2]:\n",
    "            # print('Anderson-Darling test passed')\n",
    "            exit = True\n",
    "    return data_copy.drop(columns=['InterArrivalTime'])\n",
    "\n",
    "def get_switch_samples_delays(flowIndicatorDf, switchDf):\n",
    "    l_df = flowIndicatorDf.copy()\n",
    "    l_df = pd.merge(l_df, switchDf, on=['SourceIp', 'SourcePort', 'DestinationIp', 'DestinationPort', 'PayloadSize', 'SequenceNb'], how='right')\n",
    "    l_df['ReceiveTime'] = l_df['ReceiveTime'].fillna(l_df['SampleTime'])\n",
    "    l_df['SentTime'] = l_df['SentTime'].fillna(l_df['DepartTime'])\n",
    "    return l_df\n",
    "\n",
    "def switch_data(flowIndicatorDf, switchDf, sampling):\n",
    "    l_df = flowIndicatorDf.copy()\n",
    "    l_df = pd.merge(l_df, switchDf, on=['SourceIp', 'SourcePort', 'DestinationIp', 'DestinationPort', 'PayloadSize', 'SequenceNb'], how='inner')\n",
    "    if sampling:\n",
    "        l_df = sample_data(l_df, 'ReceiveTime')\n",
    "    return l_df\n",
    "\n",
    "def intermediateLink_data(flowIndicatorDf, source, dest):\n",
    "    l_df = flowIndicatorDf.copy()\n",
    "    l_df = pd.merge(l_df, source.drop(columns=['ReceiveTime']), on=['SourceIp', 'SourcePort', 'DestinationIp', 'DestinationPort', 'PayloadSize', 'SequenceNb'], how='inner')\n",
    "    l_df = pd.merge(l_df, dest.drop(columns=['SentTime']), on=['SourceIp', 'SourcePort', 'DestinationIp', 'DestinationPort', 'PayloadSize', 'SequenceNb'], how='inner')\n",
    "    # l_df = sample_data(l_df, 'SentTime')\n",
    "    return l_df\n",
    "\n",
    "def get_delayMean(data):\n",
    "    data['Delay'] = abs(data['ReceiveTime'] - data['SentTime'])\n",
    "    return data['Delay'].mean()\n",
    "\n",
    "def get_delayStd(data):\n",
    "    data['Delay'] = abs(data['ReceiveTime'] - data['SentTime'])\n",
    "    return data['Delay'].std()\n",
    "\n",
    "def get_delaySkew(data):\n",
    "    data['Delay'] = abs(data['ReceiveTime'] - data['SentTime'])\n",
    "    return data['Delay'].skew()\n",
    "\n",
    "def get_statistics(data):\n",
    "    statistics = {}\n",
    "    statistics['DelayMean'] = get_delayMean(data.copy())\n",
    "    statistics['DelayStd'] = get_delayStd(data.copy())\n",
    "    statistics['sampleSize'] = len(data.copy())\n",
    "    statistics['DelaySkew'] = get_delaySkew(data.copy())\n",
    "    return statistics"
   ]
  },
  {
   "cell_type": "code",
   "execution_count": 210,
   "metadata": {},
   "outputs": [],
   "source": [
    "def ECNMC(endToEnd_delayMean, sumOfSegments_DelayMeans, endToEnd_delayStd, MinSampleSize, confidenceValue):\n",
    "    if abs(endToEnd_delayMean - sumOfSegments_DelayMeans) <= confidenceValue * (endToEnd_delayStd / np.sqrt(MinSampleSize)):\n",
    "        return True\n",
    "    else:  \n",
    "        return False\n",
    "\n",
    "def ECNMC_V2(endToEnd_delayMean, sumOfSegments_DelayMeans, maxEpsilon):\n",
    "    if abs(endToEnd_delayMean - sumOfSegments_DelayMeans) / endToEnd_delayMean <= maxEpsilon:\n",
    "        return True\n",
    "    else:  \n",
    "        return False\n",
    "    \n",
    "def check_single_delayConsistency(endToEnd_statistics, switches_statistics, interLinks_statistics, confidenceValue):\n",
    "    switches_delayMeans = [value['DelayMean'] for value in switches_statistics.values()]\n",
    "    interLinks_delaymeans = [value['DelayMean'] for value in interLinks_statistics.values()]\n",
    "    switches_sampleSizes = [value['sampleSize'] for value in switches_statistics.values()]\n",
    "    MinSampleSize = min(switches_sampleSizes)\n",
    "    sumOfSegmentsDelayMeans = sum(switches_delayMeans + interLinks_delaymeans)\n",
    "\n",
    "    return ECNMC(endToEnd_statistics['DelayMean'], sumOfSegmentsDelayMeans, endToEnd_statistics['DelayStd'], MinSampleSize, confidenceValue)\n",
    "        \n",
    "def check_single_delayConsistency_V2(endToEnd_statistics, switches_statistics, interLinks_statistics, confidenceValue):\n",
    "    # calculate the epsilon = confidenceValue * (switches_delayStd / (sqrt(switches_sampleSize) * switches_delayMean)) for each switch\n",
    "    switches_delayMeans = [value['DelayMean'] for value in switches_statistics.values()]\n",
    "    switches_delayStds = [value['DelayStd'] for value in switches_statistics.values()]\n",
    "    switches_sampleSizes = [value['sampleSize'] for value in switches_statistics.values()]\n",
    "    interLinks_delaymeans = [value['DelayMean'] for value in interLinks_statistics.values()]\n",
    "    interLinks_delayStds = [value['DelayStd'] for value in interLinks_statistics.values()]\n",
    "    interLinks_sampleSizes = [value['sampleSize'] for value in interLinks_statistics.values()]\n",
    "\n",
    "    segments_delayMeans = switches_delayMeans + interLinks_delaymeans\n",
    "    segments_delayStds = switches_delayStds + interLinks_delayStds\n",
    "    segments_sampleSizes = switches_sampleSizes + interLinks_sampleSizes\n",
    "\n",
    "    epsilons = [confidenceValue * (segments_delayStds[i] / (np.sqrt(segments_sampleSizes[i]) * segments_delayMeans[i])) for i in range(len(segments_delayMeans))]\n",
    "    maxEpsilon = max(epsilons)\n",
    "    sumOfSegmentsDelayMeans = sum(segments_delayMeans)\n",
    "\n",
    "    return ECNMC_V2(endToEnd_statistics['DelayMean'], sumOfSegmentsDelayMeans, maxEpsilon)\n",
    "\n",
    "\n",
    "\n",
    "\n",
    "def check_all_delayConsistency(endToEnd_statistics, switches_statistics, interLinks_statistics, confidenceValue):\n",
    "    res = {}\n",
    "    res['DominantAssumption'] = {}\n",
    "    res['General'] = {}\n",
    "    for flow in endToEnd_statistics.keys():\n",
    "        res['DominantAssumption'][flow] = check_single_delayConsistency(endToEnd_statistics[flow], switches_statistics[flow], interLinks_statistics[flow], confidenceValue)\n",
    "        res['General'][flow] = check_single_delayConsistency_V2(endToEnd_statistics[flow], switches_statistics[flow], interLinks_statistics[flow], confidenceValue)\n",
    "    return res"
   ]
  },
  {
   "cell_type": "code",
   "execution_count": 211,
   "metadata": {},
   "outputs": [],
   "source": [
    "class AppKey:\n",
    "    def __init__(self, sourceIp, sourcePort, destIp, destPort):\n",
    "        self.sourceIp = sourceIp\n",
    "        self.sourcePort = sourcePort\n",
    "        self.destIp = destIp\n",
    "        self.destPort = destPort"
   ]
  },
  {
   "cell_type": "code",
   "execution_count": 212,
   "metadata": {},
   "outputs": [
    {
     "name": "stdout",
     "output_type": "stream",
     "text": [
      "hostToTorLinkRate:  10.0  Mbps\n",
      "torToAggLinkRate:  10Mbps\n",
      "aggToCoreLinkRate:  10.0  Mbps\n",
      "hostToTorLinkDelay:  3.0  ms\n",
      "torToAggLinkDelay:  3.0  ms\n",
      "aggToCoreLinkDelay:  3.0  ms\n",
      "pctPacedBack:  0.8  %\n",
      "appDataRate:  10.0  Mbps\n",
      "duration:  10.0  s\n",
      "steadyStart:  2.0  s\n",
      "steadyEnd:  9.0  s\n",
      "sampleRate 1000.0\n",
      "experiments:  1\n",
      "serviceRateScales:  [0.8, 0.9, 1.0, 1.1, 1.25]\n"
     ]
    }
   ],
   "source": [
    "config = configparser.ConfigParser()\n",
    "config.read('Parameters.config')\n",
    "hostToTorLinkRate = convert_to_float(config.get('Settings', 'hostToTorLinkRate'))\n",
    "torToAggLinkRate = config.get('Settings', 'torToAggLinkRate')\n",
    "aggToCoreLinkRate = convert_to_float(config.get('Settings', 'aggToCoreLinkRate'))\n",
    "hostToTorLinkDelay = convert_to_float(config.get('Settings', 'hostToTorLinkDelay'))\n",
    "torToAggLinkDelay = convert_to_float(config.get('Settings', 'torToAggLinkDelay'))\n",
    "aggToCoreLinkDelay = convert_to_float(config.get('Settings', 'aggToCoreLinkDelay'))\n",
    "pctPacedBack = convert_to_float(config.get('Settings', 'pctPacedBack'))\n",
    "appDataRate = convert_to_float(config.get('Settings', 'appDataRate'))\n",
    "duration = convert_to_float(config.get('Settings', 'duration'))\n",
    "steadyStart = convert_to_float(config.get('Settings', 'steadyStart'))\n",
    "steadyEnd = convert_to_float(config.get('Settings', 'steadyEnd'))\n",
    "sampleRate = convert_to_float(config.get('Settings', 'sampleRate'))\n",
    "experiments = int(config.get('Settings', 'experiments'))\n",
    "serviceRateScales = [float(x) for x in config.get('Settings', 'serviceRateScales').split(',')]\n",
    "\n",
    "print(\"hostToTorLinkRate: \", hostToTorLinkRate, \" Mbps\")\n",
    "print(\"torToAggLinkRate: \", torToAggLinkRate)\n",
    "print(\"aggToCoreLinkRate: \", aggToCoreLinkRate, \" Mbps\")\n",
    "print(\"hostToTorLinkDelay: \", hostToTorLinkDelay, \" ms\")\n",
    "print(\"torToAggLinkDelay: \", torToAggLinkDelay, \" ms\")\n",
    "print(\"aggToCoreLinkDelay: \", aggToCoreLinkDelay, \" ms\")\n",
    "print(\"pctPacedBack: \", pctPacedBack, \" %\")\n",
    "print(\"appDataRate: \", appDataRate, \" Mbps\")\n",
    "print(\"duration: \", duration, \" s\")\n",
    "print(\"steadyStart: \", steadyStart, \" s\")\n",
    "print(\"steadyEnd: \", steadyEnd, \" s\")\n",
    "print(\"sampleRate\", sampleRate)\n",
    "print(\"experiments: \", experiments)\n",
    "print(\"serviceRateScales: \", serviceRateScales)\n",
    "rate = serviceRateScales[-1]"
   ]
  },
  {
   "cell_type": "markdown",
   "metadata": {},
   "source": [
    "# Reading the Groundtruth"
   ]
  },
  {
   "cell_type": "code",
   "execution_count": 213,
   "metadata": {},
   "outputs": [
    {
     "name": "stdout",
     "output_type": "stream",
     "text": [
      "7878 8752\n"
     ]
    }
   ],
   "source": [
    "endToEnd_dfs = read_data(__ns3_path, steadyStart, steadyEnd, rate, 'EndToEnd', 'IsReceived', 'SentTime', '0')\n",
    "print(*[len(endToEnd_dfs[i]) for i in endToEnd_dfs.keys()])"
   ]
  },
  {
   "cell_type": "code",
   "execution_count": 214,
   "metadata": {},
   "outputs": [
    {
     "name": "stdout",
     "output_type": "stream",
     "text": [
      "{'R0h1R1h1': 6.3828344, 'R0h0R1h0': 6.4902264}\n"
     ]
    }
   ],
   "source": [
    "# from endToEnd data, calculate the average data rate\n",
    "endToEnd_dataRates = {}\n",
    "for flow in endToEnd_dfs.keys():\n",
    "    endToEnd_dataRates[flow] = endToEnd_dfs[flow]['PayloadSize'].sum() * 8 / (10) / 1000000\n",
    "print(endToEnd_dataRates)"
   ]
  },
  {
   "cell_type": "code",
   "execution_count": 215,
   "metadata": {},
   "outputs": [
    {
     "name": "stdout",
     "output_type": "stream",
     "text": [
      "16994 16991\n"
     ]
    }
   ],
   "source": [
    "switches_dfs = read_data(__ns3_path, steadyStart, steadyEnd, rate, 'Switch', 'IsSent', 'ReceiveTime', '0')\n",
    "print(*[len(switches_dfs[i]) for i in switches_dfs.keys()])"
   ]
  },
  {
   "cell_type": "markdown",
   "metadata": {},
   "source": [
    "# Reading the Samples"
   ]
  },
  {
   "cell_type": "code",
   "execution_count": 216,
   "metadata": {},
   "outputs": [
    {
     "name": "stdout",
     "output_type": "stream",
     "text": [
      "6979 6937 7027\n"
     ]
    }
   ],
   "source": [
    "samples_dfs = read_data(__ns3_path, steadyStart, steadyEnd, rate, 'PoissonSampler', 'IsDeparted', 'SampleTime', '0')\n",
    "print(*[len(samples_dfs[i]) for i in samples_dfs.keys()])"
   ]
  },
  {
   "cell_type": "markdown",
   "metadata": {},
   "source": [
    "# Intermediate links groundtruth statistics"
   ]
  },
  {
   "cell_type": "code",
   "execution_count": 217,
   "metadata": {},
   "outputs": [
    {
     "data": {
      "text/plain": [
       "{'R0h1R1h1': {('source', 'T0'): {'DelayMean': 420536686.2893617,\n",
       "   'DelayStd': 462242844.4906737,\n",
       "   'sampleSize': 7520,\n",
       "   'DelaySkew': 2.0657053155904332},\n",
       "  ('T0', 'T1'): {'DelayMean': 5872422.4135408355,\n",
       "   'DelayStd': 57140725.67491264,\n",
       "   'sampleSize': 7518,\n",
       "   'DelaySkew': 22.876109012556565},\n",
       "  ('T1', 'dest'): {'DelayMean': 6636902.261239692,\n",
       "   'DelayStd': 57105666.68883745,\n",
       "   'sampleSize': 7518,\n",
       "   'DelaySkew': 22.878442756963434}},\n",
       " 'R0h0R1h0': {('source', 'T0'): {'DelayMean': 529038266.2156652,\n",
       "   'DelayStd': 631484286.1533439,\n",
       "   'sampleSize': 8388,\n",
       "   'DelaySkew': 1.8612881296795585},\n",
       "  ('T0', 'T1'): {'DelayMean': 17309331.37805314,\n",
       "   'DelayStd': 150409544.2720306,\n",
       "   'sampleSize': 8393,\n",
       "   'DelaySkew': 12.98996369399318},\n",
       "  ('T1', 'dest'): {'DelayMean': 16979605.70816935,\n",
       "   'DelayStd': 136347342.0176118,\n",
       "   'sampleSize': 8385,\n",
       "   'DelaySkew': 12.942759717275342}}}"
      ]
     },
     "execution_count": 217,
     "metadata": {},
     "output_type": "execute_result"
    }
   ],
   "source": [
    "interLinks_statistics = {}\n",
    "for flow in endToEnd_dfs.keys():\n",
    "    interLinks_statistics[flow] = {}\n",
    "    interLinks_statistics[flow][('source', 'T0')] = get_statistics(intermediateLink_data(endToEnd_dfs[flow].drop(columns=['SentTime', 'ReceiveTime']), endToEnd_dfs[flow], switches_dfs['T0']))\n",
    "    interLinks_statistics[flow][('T0', 'T1')] = get_statistics(intermediateLink_data(endToEnd_dfs[flow].drop(columns=['SentTime', 'ReceiveTime']), switches_dfs['T0'], switches_dfs['T1']))\n",
    "    interLinks_statistics[flow][('T1', 'dest')] = get_statistics(intermediateLink_data(endToEnd_dfs[flow].drop(columns=['SentTime', 'ReceiveTime']), switches_dfs['T1'], endToEnd_dfs[flow]))\n",
    "\n",
    "interLinks_statistics"
   ]
  },
  {
   "cell_type": "markdown",
   "metadata": {},
   "source": [
    "# Switches statistics"
   ]
  },
  {
   "cell_type": "code",
   "execution_count": 218,
   "metadata": {},
   "outputs": [
    {
     "data": {
      "text/plain": [
       "{'Overall': {'R0h1R1h1': {'T0': {'DelayMean': 34704.55624014902,\n",
       "    'DelayStd': 51206.14524418163,\n",
       "    'sampleSize': 6979,\n",
       "    'DelaySkew': 1.6383659615442112},\n",
       "   'T1': {'DelayMean': 344357.19806625904,\n",
       "    'DelayStd': 533143.4076964884,\n",
       "    'sampleSize': 7033,\n",
       "    'DelaySkew': 1.1530874699910698}},\n",
       "  'R0h0R1h0': {'T0': {'DelayMean': 34704.55624014902,\n",
       "    'DelayStd': 51206.14524418163,\n",
       "    'sampleSize': 6979,\n",
       "    'DelaySkew': 1.6383659615442112},\n",
       "   'T1': {'DelayMean': 429314.9933964973,\n",
       "    'DelayStd': 568917.3327631389,\n",
       "    'sampleSize': 6966,\n",
       "    'DelaySkew': 0.7971343429066802}}},\n",
       " 'PerTrafficStream': {'R0h1R1h1': {'T0': {'DelayMean': 78742.78378378379,\n",
       "    'DelayStd': 62020.872572365035,\n",
       "    'sampleSize': 74,\n",
       "    'DelaySkew': 0.45401473437177126},\n",
       "   'T1': {'DelayMean': 458950.4324324324,\n",
       "    'DelayStd': 452918.36362617323,\n",
       "    'sampleSize': 74,\n",
       "    'DelaySkew': 1.1807355862503062}},\n",
       "  'R0h0R1h0': {'T0': {'DelayMean': 81902.41463414633,\n",
       "    'DelayStd': 72484.92410012764,\n",
       "    'sampleSize': 82,\n",
       "    'DelaySkew': 0.7248412857450334},\n",
       "   'T1': {'DelayMean': 629215.512195122,\n",
       "    'DelayStd': 511976.4304417322,\n",
       "    'sampleSize': 82,\n",
       "    'DelaySkew': 0.5005406072454818}}}}"
      ]
     },
     "execution_count": 218,
     "metadata": {},
     "output_type": "execute_result"
    }
   ],
   "source": [
    "samples_statistics = {}\n",
    "samples_statistics['Overall'] = {}\n",
    "samples_statistics['PerTrafficStream'] = {}\n",
    "\n",
    "for flow in endToEnd_dfs.keys():\n",
    "    samples_statistics['Overall'][flow] = {}\n",
    "    samples_statistics['Overall'][flow]['T0'] = get_statistics(get_switch_samples_delays(switches_dfs['T0'], samples_dfs['T0T1']))\n",
    "    samples_statistics['Overall'][flow]['T1'] = get_statistics(get_switch_samples_delays(switches_dfs['T1'], samples_dfs['T1.R' + flow.split('R')[-1]]))\n",
    "\n",
    "    samples_statistics['PerTrafficStream'][flow] = {}\n",
    "    samples_statistics['PerTrafficStream'][flow]['T0'] = get_statistics(switch_data(endToEnd_dfs[flow].drop(columns=['SentTime', 'ReceiveTime']), switches_dfs['T0'], True))\n",
    "    samples_statistics['PerTrafficStream'][flow]['T1'] = get_statistics(switch_data(endToEnd_dfs[flow].drop(columns=['SentTime', 'ReceiveTime']), switches_dfs['T1'], True))\n",
    "\n",
    "samples_statistics"
   ]
  },
  {
   "cell_type": "code",
   "execution_count": 219,
   "metadata": {},
   "outputs": [
    {
     "data": {
      "text/plain": [
       "{'Overall': {'R0h1R1h1': {'T0': {'DelayMean': 77682.35348125479,\n",
       "    'DelayStd': 62216.66887438335,\n",
       "    'sampleSize': 16991,\n",
       "    'DelaySkew': 0.7089173471467861},\n",
       "   'T1': {'DelayMean': 566830.5476638813,\n",
       "    'DelayStd': 503285.4443585117,\n",
       "    'sampleSize': 16994,\n",
       "    'DelaySkew': 0.6949485580595847}},\n",
       "  'R0h0R1h0': {'T0': {'DelayMean': 77682.35348125479,\n",
       "    'DelayStd': 62216.66887438335,\n",
       "    'sampleSize': 16991,\n",
       "    'DelaySkew': 0.7089173471467861},\n",
       "   'T1': {'DelayMean': 566830.5476638813,\n",
       "    'DelayStd': 503285.4443585117,\n",
       "    'sampleSize': 16994,\n",
       "    'DelaySkew': 0.6949485580595847}}},\n",
       " 'PerTrafficStream': {'R0h1R1h1': {'T0': {'DelayMean': 77678.97891083822,\n",
       "    'DelayStd': 63068.14742269047,\n",
       "    'sampleSize': 7492,\n",
       "    'DelaySkew': 0.7424672657037816},\n",
       "   'T1': {'DelayMean': 547707.5228304405,\n",
       "    'DelayStd': 502560.92894845316,\n",
       "    'sampleSize': 7490,\n",
       "    'DelaySkew': 0.7781487816959045}},\n",
       "  'R0h0R1h0': {'T0': {'DelayMean': 79551.18644476603,\n",
       "    'DelayStd': 62455.72285484849,\n",
       "    'sampleSize': 8292,\n",
       "    'DelaySkew': 0.6539357091962881},\n",
       "   'T1': {'DelayMean': 618460.103993244,\n",
       "    'DelayStd': 511036.4578214907,\n",
       "    'sampleSize': 8289,\n",
       "    'DelaySkew': 0.49309637563479125}}}}"
      ]
     },
     "execution_count": 219,
     "metadata": {},
     "output_type": "execute_result"
    }
   ],
   "source": [
    "groundtruth_statistics = {}\n",
    "groundtruth_statistics['Overall'] = {}\n",
    "groundtruth_statistics['PerTrafficStream'] = {}\n",
    "\n",
    "for flow in endToEnd_dfs.keys():\n",
    "    groundtruth_statistics['Overall'][flow] = {}\n",
    "    groundtruth_statistics['Overall'][flow]['T0'] = get_statistics(switches_dfs['T0'])\n",
    "    groundtruth_statistics['Overall'][flow]['T1'] = get_statistics(switches_dfs['T1'])\n",
    "\n",
    "    groundtruth_statistics['PerTrafficStream'][flow] = {}\n",
    "    groundtruth_statistics['PerTrafficStream'][flow]['T0'] = get_statistics(switch_data(endToEnd_dfs[flow].drop(columns=['SentTime', 'ReceiveTime']), switches_dfs['T0'], False))\n",
    "    groundtruth_statistics['PerTrafficStream'][flow]['T1'] = get_statistics(switch_data(endToEnd_dfs[flow].drop(columns=['SentTime', 'ReceiveTime']), switches_dfs['T1'], False))\n",
    "\n",
    "groundtruth_statistics"
   ]
  },
  {
   "cell_type": "code",
   "execution_count": 220,
   "metadata": {},
   "outputs": [
    {
     "name": "stdout",
     "output_type": "stream",
     "text": [
      "ANOVA test: F-value: 3.503965670758451, p-value: 0.06124054451927044\n",
      "Kruskal test: H-value: 5.204791008938163, p-value: 0.02252472262723001\n",
      "\n"
     ]
    },
    {
     "data": {
      "image/png": "[encoded data removed]",
      "text/plain": [
       "<Figure size 2880x1440 with 1 Axes>"
      ]
     },
     "metadata": {},
     "output_type": "display_data"
    }
   ],
   "source": [
    "# ANOVA test\n",
    "flows = []\n",
    "for flow in endToEnd_dfs.keys():\n",
    "    flow_on_switch = switch_data(endToEnd_dfs[flow].drop(columns=['SentTime', 'ReceiveTime']), switches_dfs['T0'], False)\n",
    "    flow_on_switch['Delay'] = abs(flow_on_switch['ReceiveTime'] - flow_on_switch['SentTime'])\n",
    "    flows.append(flow_on_switch)\n",
    "\n",
    "anova_res  = f_oneway(*[flows[i]['Delay'] for i in range(len(flows))])\n",
    "kruskal_res = kruskal(*[flows[i]['Delay'] for i in range(len(flows))])\n",
    "prt = \"ANOVA test: F-value: {}, p-value: {}\\n\".format(anova_res.statistic, anova_res.pvalue)\n",
    "prt += \"Kruskal test: H-value: {}, p-value: {}\\n\".format(kruskal_res.statistic, kruskal_res.pvalue)\n",
    "print(prt)\n",
    "\n",
    "# plot the delay distribution of the flows\n",
    "fig, ax = plt.subplots(1, 1)\n",
    "for i in range(len(flows)):\n",
    "    sns.histplot(np.array(flows[i]['Delay']), ax=ax, label='Flow {}'.format(i))\n",
    "plt.legend()\n",
    "plt.show()\n"
   ]
  },
  {
   "cell_type": "markdown",
   "metadata": {},
   "source": [
    "# Groundtruth delay mean and std"
   ]
  },
  {
   "cell_type": "code",
   "execution_count": 221,
   "metadata": {},
   "outputs": [
    {
     "name": "stdout",
     "output_type": "stream",
     "text": [
      "{'R0h1R1h1': {'DelayMean': 441095037.4785479, 'DelayStd': 467074709.3204033, 'sampleSize': 7878, 'DelaySkew': 1.9315302567315202}, 'R0h0R1h0': {'DelayMean': 555094077.397052, 'DelayStd': 646597100.8732718, 'sampleSize': 8752, 'DelaySkew': 2.107304881992991}}\n"
     ]
    }
   ],
   "source": [
    "# calculate the mean and std of thet delay of each flow\n",
    "endToEnd_statistics = {}\n",
    "for flow in endToEnd_dfs.keys():\n",
    "    # endToEnd_statistics[flow] = get_statistics(sample_data(endToEnd_dfs[flow], 'SentTime'))\n",
    "    endToEnd_statistics[flow] = get_statistics(endToEnd_dfs[flow])\n",
    "\n",
    "print(endToEnd_statistics)"
   ]
  },
  {
   "cell_type": "markdown",
   "metadata": {},
   "source": [
    "# End to End and Persegment Compatibility Check"
   ]
  },
  {
   "cell_type": "code",
   "execution_count": 222,
   "metadata": {},
   "outputs": [
    {
     "data": {
      "text/plain": [
       "{'Overall': {'groundtruth': {'DominantAssumption': {'R0h1R1h1': False,\n",
       "    'R0h0R1h0': True},\n",
       "   'General': {'R0h1R1h1': True, 'R0h0R1h0': True}},\n",
       "  'samples': {'DominantAssumption': {'R0h1R1h1': True, 'R0h0R1h0': True},\n",
       "   'General': {'R0h1R1h1': True, 'R0h0R1h0': True}}},\n",
       " 'PerTrafficStream': {'groundtruth': {'DominantAssumption': {'R0h1R1h1': True,\n",
       "    'R0h0R1h0': True},\n",
       "   'General': {'R0h1R1h1': True, 'R0h0R1h0': True}},\n",
       "  'samples': {'DominantAssumption': {'R0h1R1h1': True, 'R0h0R1h0': True},\n",
       "   'General': {'R0h1R1h1': True, 'R0h0R1h0': True}}}}"
      ]
     },
     "execution_count": 222,
     "metadata": {},
     "output_type": "execute_result"
    }
   ],
   "source": [
    "results = {}\n",
    "results['Overall'] = {}\n",
    "results['PerTrafficStream'] = {}\n",
    "results['Overall']['groundtruth'] = check_all_delayConsistency(endToEnd_statistics, groundtruth_statistics['Overall'], interLinks_statistics, confidenceValue)\n",
    "results['Overall']['samples'] = check_all_delayConsistency(endToEnd_statistics, samples_statistics['Overall'], interLinks_statistics, confidenceValue)\n",
    "results['PerTrafficStream']['groundtruth'] = check_all_delayConsistency(endToEnd_statistics, groundtruth_statistics['PerTrafficStream'], interLinks_statistics, confidenceValue)\n",
    "results['PerTrafficStream']['samples'] = check_all_delayConsistency(endToEnd_statistics, samples_statistics['PerTrafficStream'], interLinks_statistics, confidenceValue)\n",
    "\n",
    "results"
   ]
  },
  {
   "cell_type": "markdown",
   "metadata": {},
   "source": [
    "# Repeat sampling to check if the relation holds more than 95% of the time"
   ]
  },
  {
   "cell_type": "code",
   "execution_count": 223,
   "metadata": {},
   "outputs": [],
   "source": [
    "# def prepare_results(flows):\n",
    "#     rounds_results = {}\n",
    "#     rounds_results['Overall'] = {}\n",
    "#     rounds_results['PerTrafficStream'] = {}\n",
    "#     # rounds_results['Overall']['groundtruth'] = {}\n",
    "#     rounds_results['Overall']['samples'] = {}\n",
    "#     # rounds_results['PerTrafficStream']['groundtruth'] = {}\n",
    "#     rounds_results['PerTrafficStream']['samples'] = {}\n",
    "#     # rounds_results['Overall']['groundtruth']['DominantAssumption'] = {}\n",
    "#     # rounds_results['Overall']['groundtruth']['General'] = {}\n",
    "#     rounds_results['Overall']['samples']['DominantAssumption'] = {}\n",
    "#     rounds_results['Overall']['samples']['General'] = {}\n",
    "#     # rounds_results['PerTrafficStream']['groundtruth']['DominantAssumption'] = {}\n",
    "#     # rounds_results['PerTrafficStream']['groundtruth']['General'] = {}\n",
    "#     rounds_results['PerTrafficStream']['samples']['DominantAssumption'] = {}\n",
    "#     rounds_results['PerTrafficStream']['samples']['General'] = {}\n",
    "#     rounds_results['ANOVA'] = 0\n",
    "#     rounds_results['Kruskal'] = 0\n",
    "#     rounds_results['EndToEndMean'] = {}\n",
    "#     rounds_results['EndToEndStd'] = {}\n",
    "#     rounds_results['EndToEndSkew'] = {}\n",
    "#     for flow in flows:\n",
    "#         # rounds_results['Overall']['groundtruth']['DominantAssumption'][flow] = 0\n",
    "#         # rounds_results['Overall']['groundtruth']['General'][flow] = 0\n",
    "#         rounds_results['Overall']['samples']['DominantAssumption'][flow] = 0\n",
    "#         rounds_results['Overall']['samples']['General'][flow] = 0\n",
    "#         # rounds_results['PerTrafficStream']['groundtruth']['DominantAssumption'][flow] = 0\n",
    "#         # rounds_results['PerTrafficStream']['groundtruth']['General'][flow] = 0\n",
    "#         rounds_results['PerTrafficStream']['samples']['DominantAssumption'][flow] = 0\n",
    "#         rounds_results['PerTrafficStream']['samples']['General'][flow] = 0\n",
    "#         rounds_results['EndToEndMean'][flow] = 0\n",
    "#         rounds_results['EndToEndStd'][flow] = 0\n",
    "#         rounds_results['EndToEndSkew'][flow] = 0\n",
    "\n",
    "#     rounds_results['experiments'] = 0\n",
    "#     return rounds_results\n",
    "\n",
    "# def delayProcess_consistency_check(flows, rounds_results):\n",
    "#     # Observing the same delay process test on the common swtiches(T0)\n",
    "#     for flow_on_switch in flows:\n",
    "#         flow_on_switch['Delay'] = abs(flow_on_switch['ReceiveTime'] - flow_on_switch['SentTime'])\n",
    "\n",
    "#     anova_res  = f_oneway(*[flows[i]['Delay'] for i in range(len(flows))])\n",
    "#     kruskal_res = kruskal(*[flows[i]['Delay'] for i in range(len(flows))])\n",
    "#     if anova_res.pvalue > 0.05:\n",
    "#         rounds_results['ANOVA'] += 1\n",
    "#     if kruskal_res.pvalue > 0.05:\n",
    "#         rounds_results['Kruskal'] += 1\n",
    "\n",
    "# def plot_delay_distribution(rate, switches_dfs, common_switch_sample_df):\n",
    "#     # plot the delay distribution of SWitch T0 and Sample T0\n",
    "#     fig, ax = plt.subplots(1, 2)\n",
    "#     sns.histplot(common_switch_sample_df['SentTime'] - common_switch_sample_df['ReceiveTime'], ax=ax[0])\n",
    "#     sns.histplot(switches_dfs['T0']['SentTime'] - switches_dfs['T0']['ReceiveTime'], ax=ax[1])\n",
    "#     ax[0].set_title('Sample T0')\n",
    "#     ax[1].set_title('Switch T0')\n",
    "#     plt.savefig('results/{}/{}_T0_overall_delayDist.png'.format(rate, rate))\n",
    "\n",
    "# def compatibility_check(confidenceValue, rounds_results, samples_statistics, interLinks_statistics, endToEnd_statistics, flows_name):\n",
    "#     # End to End and Persegment Compatibility Check\n",
    "#     results = {}\n",
    "#     results['Overall'] = {}\n",
    "#     results['PerTrafficStream'] = {}\n",
    "#     # results['Overall']['groundtruth'] = check_all_delayConsistency(endToEnd_statistics, groundtruth_statistics['Overall'], interLinks_statistics, confidenceValue)\n",
    "#     results['Overall']['samples'] = check_all_delayConsistency(endToEnd_statistics, samples_statistics['Overall'], interLinks_statistics, confidenceValue)\n",
    "#     # results['PerTrafficStream']['groundtruth'] = check_all_delayConsistency(endToEnd_statistics, groundtruth_statistics['PerTrafficStream'], interLinks_statistics, confidenceValue)\n",
    "#     results['PerTrafficStream']['samples'] = check_all_delayConsistency(endToEnd_statistics, samples_statistics['PerTrafficStream'], interLinks_statistics, confidenceValue)\n",
    "\n",
    "#     for flow in flows_name:\n",
    "#         # if results['Overall']['groundtruth']['DominantAssumption'][flow]:\n",
    "#         #     rounds_results['Overall']['groundtruth']['DominantAssumption'][flow] += 1\n",
    "#         # if results['Overall']['groundtruth']['General'][flow]:\n",
    "#         #     rounds_results['Overall']['groundtruth']['General'][flow] += 1\n",
    "#         if results['Overall']['samples']['DominantAssumption'][flow]:\n",
    "#             rounds_results['Overall']['samples']['DominantAssumption'][flow] += 1\n",
    "#         if results['Overall']['samples']['General'][flow]:\n",
    "#             rounds_results['Overall']['samples']['General'][flow] += 1\n",
    "#         # if results['PerTrafficStream']['groundtruth']['DominantAssumption'][flow]:\n",
    "#         #     rounds_results['PerTrafficStream']['groundtruth']['DominantAssumption'][flow] += 1\n",
    "#         # if results['PerTrafficStream']['groundtruth']['General'][flow]:\n",
    "#         #     rounds_results['PerTrafficStream']['groundtruth']['General'][flow] += 1\n",
    "#         if results['PerTrafficStream']['samples']['DominantAssumption'][flow]:\n",
    "#             rounds_results['PerTrafficStream']['samples']['DominantAssumption'][flow] += 1\n",
    "#         if results['PerTrafficStream']['samples']['General'][flow]:\n",
    "#             rounds_results['PerTrafficStream']['samples']['General'][flow] += 1\n",
    "\n",
    "\n",
    "# def analyze_single_experiment(rate, steadyStart, steadyEnd, confidenceValue, rounds_results, experiment=0, ns3_path=__ns3_path):\n",
    "#     endToEnd_dfs = read_data(__ns3_path, steadyStart, steadyEnd, rate, 'EndToEnd', 'IsReceived', 'SentTime', str(experiment))\n",
    "#     switches_dfs = read_data(__ns3_path, steadyStart, steadyEnd, rate, 'Switch', 'IsSent', 'ReceiveTime', str(experiment))\n",
    "#     samples_dfs = read_data(__ns3_path, steadyStart, steadyEnd, rate, 'PoissonSampler', 'IsDeparted', 'SampleTime', str(experiment))\n",
    "\n",
    "#     # Intermediate links groundtruth statistics\n",
    "#     interLinks_statistics = {}\n",
    "#     for flow in endToEnd_dfs.keys():\n",
    "#         interLinks_statistics[flow] = {}\n",
    "#         interLinks_statistics[flow][('source', 'T0')] = get_statistics(intermediateLink_data(endToEnd_dfs[flow].drop(columns=['SentTime', 'ReceiveTime']), endToEnd_dfs[flow], switches_dfs['T0']))\n",
    "#         interLinks_statistics[flow][('T0', 'T1')] = get_statistics(intermediateLink_data(endToEnd_dfs[flow].drop(columns=['SentTime', 'ReceiveTime']), switches_dfs['T0'], switches_dfs['T1']))\n",
    "#         interLinks_statistics[flow][('T1', 'dest')] = get_statistics(intermediateLink_data(endToEnd_dfs[flow].drop(columns=['SentTime', 'ReceiveTime']), switches_dfs['T1'], endToEnd_dfs[flow]))\n",
    "\n",
    "\n",
    "#     # samples switches statistics\n",
    "#     samples_statistics = {}\n",
    "#     samples_statistics['Overall'] = {}\n",
    "#     samples_statistics['PerTrafficStream'] = {}\n",
    "#     common_switch_sample_df = get_switch_samples_delays(switches_dfs['T0'], samples_dfs['T0T1'])\n",
    "#     for flow in endToEnd_dfs.keys():\n",
    "#         samples_statistics['Overall'][flow] = {}\n",
    "#         samples_statistics['Overall'][flow]['T0'] = get_statistics(common_switch_sample_df)\n",
    "#         samples_statistics['Overall'][flow]['T1'] = get_statistics(get_switch_samples_delays(switches_dfs['T1'], samples_dfs['T1.R' + flow.split('R')[-1]]))\n",
    "\n",
    "#         samples_statistics['PerTrafficStream'][flow] = {}\n",
    "#         samples_statistics['PerTrafficStream'][flow]['T0'] = get_statistics(switch_data(endToEnd_dfs[flow].drop(columns=['SentTime', 'ReceiveTime']), switches_dfs['T0'], True))\n",
    "#         samples_statistics['PerTrafficStream'][flow]['T1'] = get_statistics(switch_data(endToEnd_dfs[flow].drop(columns=['SentTime', 'ReceiveTime']), switches_dfs['T1'], True))\n",
    "\n",
    "#     # groundtruth switches statistics\n",
    "#     groundtruth_statistics = {}\n",
    "#     groundtruth_statistics['Overall'] = {}\n",
    "#     groundtruth_statistics['PerTrafficStream'] = {}\n",
    "\n",
    "#     flows = []\n",
    "#     for flow in endToEnd_dfs.keys():\n",
    "#         # groundtruth_statistics['Overall'][flow] = {}\n",
    "#         # groundtruth_statistics['Overall'][flow]['T0'] = get_statistics(switches_dfs['T0'])\n",
    "#         # groundtruth_statistics['Overall'][flow]['T1'] = get_statistics(switches_dfs['T1'])\n",
    "\n",
    "#         # groundtruth_statistics['PerTrafficStream'][flow] = {}\n",
    "#         flow_on_switch = switch_data(endToEnd_dfs[flow].drop(columns=['SentTime', 'ReceiveTime']), switches_dfs['T0'], False)\n",
    "#         flows.append(flow_on_switch)\n",
    "#         # groundtruth_statistics['PerTrafficStream'][flow]['T0'] = get_statistics(flow_on_switch)\n",
    "#         # groundtruth_statistics['PerTrafficStream'][flow]['T1'] = get_statistics(switch_data(endToEnd_dfs[flow].drop(columns=['SentTime', 'ReceiveTime']), switches_dfs['T1'], False))\n",
    "\n",
    "#     # endToEnd_statistics\n",
    "#     endToEnd_statistics = {}\n",
    "#     for flow in endToEnd_dfs.keys():\n",
    "#         endToEnd_statistics[flow] = get_statistics(endToEnd_dfs[flow])\n",
    "#         rounds_results['EndToEndMean'][flow] += endToEnd_statistics[flow]['DelayMean']\n",
    "#         rounds_results['EndToEndStd'][flow] += endToEnd_statistics[flow]['DelayStd']\n",
    "#         rounds_results['EndToEndSkew'][flow] += endToEnd_statistics[flow]['DelaySkew']\n",
    "\n",
    "#     rounds_results['experiments'] += 1\n",
    "\n",
    "#     delayProcess_consistency_check(flows, rounds_results)\n",
    "\n",
    "#     plot_delay_distribution(rate, switches_dfs, common_switch_sample_df)\n",
    "\n",
    "#     compatibility_check(confidenceValue, rounds_results, samples_statistics, interLinks_statistics, endToEnd_statistics, endToEnd_dfs.keys())\n",
    "\n",
    "# def analyze_all_experiments(rate, steadyStart, steadyEnd, confidenceValue, experiments=3, ns3_path=__ns3_path):\n",
    "#     flows_name = read_data_flowIndicator(ns3_path, rate)\n",
    "\n",
    "#     rounds_results = prepare_results(flows_name)\n",
    "#     for experiment in range(experiments):\n",
    "#         analyze_single_experiment(rate, steadyStart, steadyEnd, confidenceValue, rounds_results, experiment, ns3_path)\n",
    "    \n",
    "#     rounds_results['EndToEndMean'] = {key: value / experiments for key, value in rounds_results['EndToEndMean'].items()}\n",
    "#     rounds_results['EndToEndStd'] = {key: value / experiments for key, value in rounds_results['EndToEndStd'].items()}\n",
    "#     rounds_results['EndToEndSkew'] = {key: value / experiments for key, value in rounds_results['EndToEndSkew'].items()}\n",
    "    \n",
    "#     with open('results/{}/{}_results.json'.format(rate,rate), 'w') as f:\n",
    "#         js.dump(rounds_results, f)\n"
   ]
  },
  {
   "cell_type": "code",
   "execution_count": 224,
   "metadata": {},
   "outputs": [],
   "source": [
    "# for rate in serviceRateScales:\n",
    "#     analyze_all_experiments(rate, steadyStart, steadyEnd, confidenceValue, experiments, __ns3_path)"
   ]
  }
 ],
 "metadata": {
  "kernelspec": {
   "display_name": "Python 3",
   "language": "python",
   "name": "python3"
  },
  "language_info": {
   "codemirror_mode": {
    "name": "ipython",
    "version": 3
   },
   "file_extension": ".py",
   "mimetype": "text/x-python",
   "name": "python",
   "nbconvert_exporter": "python",
   "pygments_lexer": "ipython3",
   "version": "3.10.12"
  }
 },
 "nbformat": 4,
 "nbformat_minor": 2
}
